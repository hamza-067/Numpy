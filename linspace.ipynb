{
  "nbformat": 4,
  "nbformat_minor": 0,
  "metadata": {
    "colab": {
      "provenance": [],
      "cell_execution_strategy": "setup",
      "authorship_tag": "ABX9TyNv0ScR1iA/NVX84FsYHot2",
      "include_colab_link": true
    },
    "kernelspec": {
      "name": "python3",
      "display_name": "Python 3"
    },
    "language_info": {
      "name": "python"
    }
  },
  "cells": [
    {
      "cell_type": "markdown",
      "metadata": {
        "id": "view-in-github",
        "colab_type": "text"
      },
      "source": [
        "<a href=\"https://colab.research.google.com/github/MHamza666/numpy/blob/main/linspace.ipynb\" target=\"_parent\"><img src=\"https://colab.research.google.com/assets/colab-badge.svg\" alt=\"Open In Colab\"/></a>"
      ]
    },
    {
      "cell_type": "code",
      "source": [
        "import numpy as np\n",
        "A = np.array([[[[1,2,3,4,5],[6,7,8,9,10]],[[12,13,14,15,16],[13,65,87,33,45]],[[32,24,24,5,4],[12,54,65,22,12]]]])\n",
        "print(A)\n",
        "print(\"Slicing \")\n",
        "print(A[0:4:2 ,1:3:2])"
      ],
      "metadata": {
        "colab": {
          "base_uri": "https://localhost:8080/"
        },
        "id": "qij8aZxpr1Kd",
        "outputId": "b12a0161-48ac-4cd0-aec4-2dd31e9435e8"
      },
      "execution_count": 1,
      "outputs": [
        {
          "output_type": "stream",
          "name": "stdout",
          "text": [
            "[[[[ 1  2  3  4  5]\n",
            "   [ 6  7  8  9 10]]\n",
            "\n",
            "  [[12 13 14 15 16]\n",
            "   [13 65 87 33 45]]\n",
            "\n",
            "  [[32 24 24  5  4]\n",
            "   [12 54 65 22 12]]]]\n",
            "Slicing \n",
            "[[[[12 13 14 15 16]\n",
            "   [13 65 87 33 45]]]]\n"
          ]
        }
      ]
    },
    {
      "cell_type": "code",
      "source": [
        "import numpy as np\n",
        "arr = np.linspace(0,5)\n",
        "print(arr)"
      ],
      "metadata": {
        "colab": {
          "base_uri": "https://localhost:8080/"
        },
        "id": "hdCmUs9oAMqD",
        "outputId": "360ad36b-e04e-4f15-ca7a-7592c3d3c008"
      },
      "execution_count": 7,
      "outputs": [
        {
          "output_type": "stream",
          "name": "stdout",
          "text": [
            "[0.         0.10204082 0.20408163 0.30612245 0.40816327 0.51020408\n",
            " 0.6122449  0.71428571 0.81632653 0.91836735 1.02040816 1.12244898\n",
            " 1.2244898  1.32653061 1.42857143 1.53061224 1.63265306 1.73469388\n",
            " 1.83673469 1.93877551 2.04081633 2.14285714 2.24489796 2.34693878\n",
            " 2.44897959 2.55102041 2.65306122 2.75510204 2.85714286 2.95918367\n",
            " 3.06122449 3.16326531 3.26530612 3.36734694 3.46938776 3.57142857\n",
            " 3.67346939 3.7755102  3.87755102 3.97959184 4.08163265 4.18367347\n",
            " 4.28571429 4.3877551  4.48979592 4.59183673 4.69387755 4.79591837\n",
            " 4.89795918 5.        ]\n"
          ]
        }
      ]
    },
    {
      "cell_type": "code",
      "source": [
        "import numpy as np\n",
        "arr = np.linspace(0,4,6)\n",
        "print(arr)"
      ],
      "metadata": {
        "colab": {
          "base_uri": "https://localhost:8080/"
        },
        "id": "JRP9A3r8A7Bn",
        "outputId": "359dae60-1aab-4349-86c3-b7eb5448684b"
      },
      "execution_count": 8,
      "outputs": [
        {
          "output_type": "stream",
          "name": "stdout",
          "text": [
            "[0.  0.8 1.6 2.4 3.2 4. ]\n"
          ]
        }
      ]
    },
    {
      "cell_type": "code",
      "source": [
        "import numpy as np\n",
        "arr = np.linspace(0,5,10)\n",
        "print(arr)"
      ],
      "metadata": {
        "colab": {
          "base_uri": "https://localhost:8080/"
        },
        "id": "1qMIyZ2fBKgP",
        "outputId": "12c0ae61-4212-430a-9ed9-1e4e0c6bc363"
      },
      "execution_count": 9,
      "outputs": [
        {
          "output_type": "stream",
          "name": "stdout",
          "text": [
            "[0.         0.55555556 1.11111111 1.66666667 2.22222222 2.77777778\n",
            " 3.33333333 3.88888889 4.44444444 5.        ]\n"
          ]
        }
      ]
    },
    {
      "cell_type": "code",
      "source": [
        "import numpy as np\n",
        "arr = np.linspace(2.0,5.0)\n",
        "print(arr)"
      ],
      "metadata": {
        "colab": {
          "base_uri": "https://localhost:8080/"
        },
        "id": "NS2jSWyRC6vw",
        "outputId": "c5924335-9b21-4e1d-ee61-cb31431ab475"
      },
      "execution_count": 10,
      "outputs": [
        {
          "output_type": "stream",
          "name": "stdout",
          "text": [
            "[2.         2.06122449 2.12244898 2.18367347 2.24489796 2.30612245\n",
            " 2.36734694 2.42857143 2.48979592 2.55102041 2.6122449  2.67346939\n",
            " 2.73469388 2.79591837 2.85714286 2.91836735 2.97959184 3.04081633\n",
            " 3.10204082 3.16326531 3.2244898  3.28571429 3.34693878 3.40816327\n",
            " 3.46938776 3.53061224 3.59183673 3.65306122 3.71428571 3.7755102\n",
            " 3.83673469 3.89795918 3.95918367 4.02040816 4.08163265 4.14285714\n",
            " 4.20408163 4.26530612 4.32653061 4.3877551  4.44897959 4.51020408\n",
            " 4.57142857 4.63265306 4.69387755 4.75510204 4.81632653 4.87755102\n",
            " 4.93877551 5.        ]\n"
          ]
        }
      ]
    },
    {
      "cell_type": "code",
      "source": [
        "import numpy as np\n",
        "arr = np.linspace(3,6,8)\n",
        "print(arr)"
      ],
      "metadata": {
        "colab": {
          "base_uri": "https://localhost:8080/"
        },
        "id": "o4LEd9deDoWk",
        "outputId": "c659f816-2cef-4f43-85eb-29262053c705"
      },
      "execution_count": 11,
      "outputs": [
        {
          "output_type": "stream",
          "name": "stdout",
          "text": [
            "[3.         3.42857143 3.85714286 4.28571429 4.71428571 5.14285714\n",
            " 5.57142857 6.        ]\n"
          ]
        }
      ]
    }
  ]
}