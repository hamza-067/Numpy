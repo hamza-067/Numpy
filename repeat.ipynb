{
  "nbformat": 4,
  "nbformat_minor": 0,
  "metadata": {
    "colab": {
      "provenance": [],
      "cell_execution_strategy": "setup",
      "authorship_tag": "ABX9TyNkSJ91ZmiFHgnDeedD0mlu",
      "include_colab_link": true
    },
    "kernelspec": {
      "name": "python3",
      "display_name": "Python 3"
    },
    "language_info": {
      "name": "python"
    }
  },
  "cells": [
    {
      "cell_type": "markdown",
      "metadata": {
        "id": "view-in-github",
        "colab_type": "text"
      },
      "source": [
        "<a href=\"https://colab.research.google.com/github/MHamza666/numpy/blob/main/repeat.ipynb\" target=\"_parent\"><img src=\"https://colab.research.google.com/assets/colab-badge.svg\" alt=\"Open In Colab\"/></a>"
      ]
    },
    {
      "cell_type": "markdown",
      "source": [
        "#NumPy.repeat()\n",
        "This function repeats the elements of the array passed as its argument and returns a newly generated array.\n",
        "\n",
        "\n",
        "\n",
        "numpy.repeat(arr, repetitions, axis = None)\n",
        "\n",
        "\n",
        "→ Arr - refers to the input array.\n",
        "\n",
        "\n",
        "\n",
        "→ Repetitions - refers to the no. of repetitions of each array element.\n",
        "\n",
        "\n",
        "\n",
        "→ Axis - refers to the axis along which we wish to return values."
      ],
      "metadata": {
        "id": "eNCBM5-hJgHC"
      }
    },
    {
      "cell_type": "code",
      "source": [
        "import numpy as np\n",
        "arr1 = [1,2,3,4,5]\n",
        "\n",
        "\n",
        "\n",
        "list1= np.repeat(arr1, 2, axis=0)\n",
        "\n",
        "print(list1)"
      ],
      "metadata": {
        "colab": {
          "base_uri": "https://localhost:8080/"
        },
        "id": "nf5seo-zJw9R",
        "outputId": "b34bf0d4-0b77-4f8a-ea7d-37390358bb4c"
      },
      "execution_count": 23,
      "outputs": [
        {
          "output_type": "stream",
          "name": "stdout",
          "text": [
            "[1 1 2 2 3 3 4 4 5 5]\n"
          ]
        }
      ]
    },
    {
      "cell_type": "code",
      "source": [
        "import numpy as np\n",
        "arr = [6,7,8,9,0]\n",
        "list=np.repeat(arr,2,axis=0)\n",
        "print(list)"
      ],
      "metadata": {
        "colab": {
          "base_uri": "https://localhost:8080/"
        },
        "id": "QBlvPhHVK5Cv",
        "outputId": "f834a112-5325-45ac-e6c5-dbbfc31b20d9"
      },
      "execution_count": 29,
      "outputs": [
        {
          "output_type": "stream",
          "name": "stdout",
          "text": [
            "[6 6 7 7 8 8 9 9 0 0]\n"
          ]
        }
      ]
    },
    {
      "cell_type": "code",
      "source": [
        "import numpy as np\n",
        "arr = np.array([1,2,3,4,5])\n",
        "list=np.repeat(arr,3)\n",
        "print(list)"
      ],
      "metadata": {
        "colab": {
          "base_uri": "https://localhost:8080/"
        },
        "id": "2XclYnpfLU5H",
        "outputId": "f979ade6-9155-4a7d-890f-ef3d91d2c50a"
      },
      "execution_count": 30,
      "outputs": [
        {
          "output_type": "stream",
          "name": "stdout",
          "text": [
            "[1 1 1 2 2 2 3 3 3 4 4 4 5 5 5]\n"
          ]
        }
      ]
    },
    {
      "cell_type": "code",
      "source": [
        "import numpy as np\n",
        "arr = np.array([[1,2,3,4],[6,7,8,9]])\n",
        "list =np.repeat(arr,3,axis=0)\n",
        "print(list)"
      ],
      "metadata": {
        "colab": {
          "base_uri": "https://localhost:8080/"
        },
        "id": "8WBg0o3tLrQI",
        "outputId": "3d94f012-2420-41b9-80e4-d60e9ece4281"
      },
      "execution_count": 34,
      "outputs": [
        {
          "output_type": "stream",
          "name": "stdout",
          "text": [
            "[[1 2 3 4]\n",
            " [1 2 3 4]\n",
            " [1 2 3 4]\n",
            " [6 7 8 9]\n",
            " [6 7 8 9]\n",
            " [6 7 8 9]]\n"
          ]
        }
      ]
    },
    {
      "cell_type": "code",
      "source": [
        "import numpy as np\n",
        "arr = np.array([[1,2,3,4],[6,7,8,9]])\n",
        "list =np.repeat(arr,3,axis=1)\n",
        "print(list)"
      ],
      "metadata": {
        "colab": {
          "base_uri": "https://localhost:8080/"
        },
        "id": "A6exYIvuMQWy",
        "outputId": "c9c97846-8ee1-411c-894e-753fab0fc018"
      },
      "execution_count": 35,
      "outputs": [
        {
          "output_type": "stream",
          "name": "stdout",
          "text": [
            "[[1 1 1 2 2 2 3 3 3 4 4 4]\n",
            " [6 6 6 7 7 7 8 8 8 9 9 9]]\n"
          ]
        }
      ]
    }
  ]
}