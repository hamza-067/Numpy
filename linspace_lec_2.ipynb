{
  "nbformat": 4,
  "nbformat_minor": 0,
  "metadata": {
    "colab": {
      "provenance": [],
      "cell_execution_strategy": "setup",
      "authorship_tag": "ABX9TyPMay+hh11vvmA1Lnow+r1N",
      "include_colab_link": true
    },
    "kernelspec": {
      "name": "python3",
      "display_name": "Python 3"
    },
    "language_info": {
      "name": "python"
    }
  },
  "cells": [
    {
      "cell_type": "markdown",
      "metadata": {
        "id": "view-in-github",
        "colab_type": "text"
      },
      "source": [
        "<a href=\"https://colab.research.google.com/github/MHamza666/numpy/blob/main/linspace_lec_2.ipynb\" target=\"_parent\"><img src=\"https://colab.research.google.com/assets/colab-badge.svg\" alt=\"Open In Colab\"/></a>"
      ]
    },
    {
      "cell_type": "markdown",
      "source": [
        "numpy.linspace(start, stop, num=50, endpoint=True,dtype=None axis=0)\n",
        "\n",
        "\n",
        "→ start - refers to the beginning of the interval range.\n",
        "\n",
        "\n",
        "\n",
        "→ stop - refers to the end of the interval range.\n",
        "\n",
        "\n",
        "\n",
        "→ Num - refers to the number of samples generated.\n",
        "\n",
        "\n",
        "\n",
        "→ Endpoint - refers to the defined endpoint, if any.\n",
        "\n",
        "\n",
        "\n",
        "→ dtype - refers to the datatype of the newly generated array.\n",
        "\n",
        "\n",
        "\n",
        "→ Axis - refers to along rows if '1' and along columns if '0"
      ],
      "metadata": {
        "id": "J-s2x7dcGfn6"
      }
    },
    {
      "cell_type": "code",
      "source": [
        "import numpy as np\n",
        "arr =np.linspace(start=0,stop=10,num=20,dtype=int,axis=0,endpoint=True)\n",
        "print(arr)"
      ],
      "metadata": {
        "colab": {
          "base_uri": "https://localhost:8080/"
        },
        "id": "4P3jrLFOGhqX",
        "outputId": "fe18235e-9332-4906-8cf4-92379635c886"
      },
      "execution_count": 12,
      "outputs": [
        {
          "output_type": "stream",
          "name": "stdout",
          "text": [
            "[ 0  0  1  1  2  2  3  3  4  4  5  5  6  6  7  7  8  8  9 10]\n"
          ]
        }
      ]
    },
    {
      "cell_type": "code",
      "source": [
        "import numpy as np\n",
        "arr = np.linspace(0,5,15,dtype=int,axis=0,endpoint=True)\n",
        "print(arr)"
      ],
      "metadata": {
        "colab": {
          "base_uri": "https://localhost:8080/"
        },
        "id": "eVxOcW3jHQuZ",
        "outputId": "81829955-67bb-4963-f5ea-581b1ddeb02b"
      },
      "execution_count": 16,
      "outputs": [
        {
          "output_type": "stream",
          "name": "stdout",
          "text": [
            "[0 0 0 1 1 1 2 2 2 3 3 3 4 4 5]\n"
          ]
        }
      ]
    },
    {
      "cell_type": "code",
      "source": [
        "import numpy as np\n",
        "arr = np.linspace(0,10,dtype=float,axis=0)\n",
        "print(arr)"
      ],
      "metadata": {
        "colab": {
          "base_uri": "https://localhost:8080/"
        },
        "id": "jTpkx6i3H8-e",
        "outputId": "4071f272-560f-43c3-ba29-c372a4201bf5"
      },
      "execution_count": 17,
      "outputs": [
        {
          "output_type": "stream",
          "name": "stdout",
          "text": [
            "[ 0.          0.20408163  0.40816327  0.6122449   0.81632653  1.02040816\n",
            "  1.2244898   1.42857143  1.63265306  1.83673469  2.04081633  2.24489796\n",
            "  2.44897959  2.65306122  2.85714286  3.06122449  3.26530612  3.46938776\n",
            "  3.67346939  3.87755102  4.08163265  4.28571429  4.48979592  4.69387755\n",
            "  4.89795918  5.10204082  5.30612245  5.51020408  5.71428571  5.91836735\n",
            "  6.12244898  6.32653061  6.53061224  6.73469388  6.93877551  7.14285714\n",
            "  7.34693878  7.55102041  7.75510204  7.95918367  8.16326531  8.36734694\n",
            "  8.57142857  8.7755102   8.97959184  9.18367347  9.3877551   9.59183673\n",
            "  9.79591837 10.        ]\n"
          ]
        }
      ]
    },
    {
      "cell_type": "code",
      "source": [
        "import numpy as np\n",
        "list = np.linspace(1,5,15,dtype=str,axis=0)\n",
        "print(list)"
      ],
      "metadata": {
        "colab": {
          "base_uri": "https://localhost:8080/"
        },
        "id": "wA34u3ZWIPv9",
        "outputId": "dce38cb2-329c-4852-b917-3bead2a4fb6d"
      },
      "execution_count": 18,
      "outputs": [
        {
          "output_type": "stream",
          "name": "stdout",
          "text": [
            "['1.0' '1.2857142857142856' '1.5714285714285714' '1.8571428571428572'\n",
            " '2.142857142857143' '2.4285714285714284' '2.7142857142857144' '3.0'\n",
            " '3.2857142857142856' '3.571428571428571' '3.8571428571428568'\n",
            " '4.142857142857142' '4.428571428571429' '4.7142857142857135' '5.0']\n"
          ]
        }
      ]
    }
  ]
}