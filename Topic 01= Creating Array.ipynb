{
 "cells": [
  {
   "cell_type": "markdown",
   "id": "b2cc5684",
   "metadata": {},
   "source": [
    "# 1 dimensional or 1D array"
   ]
  },
  {
   "cell_type": "code",
   "execution_count": 16,
   "id": "18d2122b",
   "metadata": {},
   "outputs": [
    {
     "name": "stdout",
     "output_type": "stream",
     "text": [
      "['a' 'b' 'c' 'd']\n"
     ]
    }
   ],
   "source": [
    "import numpy as np\n",
    "a =np.array(['a','b','c','d'])\n",
    "print(a)"
   ]
  },
  {
   "cell_type": "code",
   "execution_count": 3,
   "id": "22acd6f0",
   "metadata": {},
   "outputs": [
    {
     "name": "stdout",
     "output_type": "stream",
     "text": [
      "[ 1  2  3  4  5 67]\n"
     ]
    }
   ],
   "source": [
    "import numpy as np\n",
    "a =np.array([1,2,3,4,5,67,])\n",
    "print(a)"
   ]
  },
  {
   "cell_type": "code",
   "execution_count": 4,
   "id": "10c5bd03",
   "metadata": {},
   "outputs": [
    {
     "name": "stdout",
     "output_type": "stream",
     "text": [
      "['1' '2' '3' '4']\n"
     ]
    }
   ],
   "source": [
    "import numpy as np\n",
    "a =np.array(['1','2','3','4'])\n",
    "print(a)"
   ]
  },
  {
   "cell_type": "code",
   "execution_count": 5,
   "id": "a5bca48c",
   "metadata": {},
   "outputs": [
    {
     "name": "stdout",
     "output_type": "stream",
     "text": [
      "Orignal Array ['1' '2' '3' '4']\n",
      "Demnsional of array: 1\n"
     ]
    }
   ],
   "source": [
    "import numpy as np\n",
    "a =np.array(['1','2','3','4'])\n",
    "print(\"Orignal Array\" ,a)\n",
    "b =np.ndim(a)# this code use for to check deminsional of array\n",
    "print(\"Demnsional of array:\",b)"
   ]
  },
  {
   "cell_type": "code",
   "execution_count": 6,
   "id": "c55cc85b",
   "metadata": {},
   "outputs": [
    {
     "name": "stdout",
     "output_type": "stream",
     "text": [
      "Orignal Array ['1' '2' '3' '4']\n",
      "Demnsional of array: 1\n",
      "(4,)\n"
     ]
    }
   ],
   "source": [
    "import numpy as np\n",
    "a =np.array(['1','2','3','4'])\n",
    "print(\"Orignal Array\" ,a)\n",
    "b =np.ndim(a)# this code use for to check deminsional of array\n",
    "print(\"Demnsional of array:\",b)\n",
    "c = np.shape(a)\n",
    "print(c)"
   ]
  },
  {
   "cell_type": "code",
   "execution_count": 7,
   "id": "a3300266",
   "metadata": {},
   "outputs": [
    {
     "name": "stdout",
     "output_type": "stream",
     "text": [
      "Orignal Array ['1' '2' '3' '4']\n",
      "Demnsional of array: 1\n",
      "(4,)\n",
      "4\n"
     ]
    }
   ],
   "source": [
    "import numpy as np\n",
    "a =np.array(['1','2','3','4'])\n",
    "print(\"Orignal Array\" ,a)\n",
    "b =np.ndim(a)# this code use for to check deminsional of array\n",
    "print(\"Demnsional of array:\",b)\n",
    "c = np.shape(a)\n",
    "print(c)\n",
    "n = np.size(a)\n",
    "print(n)"
   ]
  },
  {
   "cell_type": "markdown",
   "id": "b40bc9a5",
   "metadata": {},
   "source": [
    "# 2 Deminsioinal array OR 2D Array "
   ]
  },
  {
   "cell_type": "code",
   "execution_count": 8,
   "id": "45b7c9c9",
   "metadata": {},
   "outputs": [
    {
     "name": "stdout",
     "output_type": "stream",
     "text": [
      "[[1 2 3 4 5]]\n",
      "No Of Deminsional: 2\n"
     ]
    }
   ],
   "source": [
    "import numpy as np\n",
    "a = np.array([[1,2,3,4,5]])\n",
    "print(a)\n",
    "b = np.ndim(a)\n",
    "print(\"No Of Deminsional:\",b)"
   ]
  },
  {
   "cell_type": "code",
   "execution_count": 9,
   "id": "d5b0d459",
   "metadata": {},
   "outputs": [
    {
     "name": "stdout",
     "output_type": "stream",
     "text": [
      "[[1 2 3 4 5]\n",
      " [6 7 8 9 0]]\n",
      "No Of Deminsional: 2\n"
     ]
    }
   ],
   "source": [
    "import numpy as np\n",
    "a = np.array([[1,2,3,4,5],[6,7,8,9,0]])\n",
    "print(a)\n",
    "b = np.ndim(a)\n",
    "print(\"No Of Deminsional:\",b)"
   ]
  },
  {
   "cell_type": "code",
   "execution_count": 10,
   "id": "7ca09e6e",
   "metadata": {},
   "outputs": [
    {
     "name": "stdout",
     "output_type": "stream",
     "text": [
      "[[1 2 3 4 5]\n",
      " [6 7 8 9 0]]\n",
      "No Of Deminsional: 2\n",
      "shape: (2, 5)\n"
     ]
    }
   ],
   "source": [
    "import numpy as np\n",
    "a = np.array([[1,2,3,4,5],[6,7,8,9,0]])\n",
    "print(a)\n",
    "b = np.ndim(a)\n",
    "print(\"No Of Deminsional:\",b)\n",
    "s = np.shape(a)\n",
    "print(\"shape:\",s)"
   ]
  },
  {
   "cell_type": "markdown",
   "id": "14f7b52c",
   "metadata": {},
   "source": [
    "# 3 Deminsioinal array OR 3D Array"
   ]
  },
  {
   "cell_type": "code",
   "execution_count": 11,
   "id": "132540e6",
   "metadata": {},
   "outputs": [
    {
     "name": "stdout",
     "output_type": "stream",
     "text": [
      "[[[1 2 3 4 5]\n",
      "  [6 7 8 9 0]]]\n",
      "No Of Deminsional: 3\n",
      "shape: (1, 2, 5)\n"
     ]
    }
   ],
   "source": [
    "import numpy as np\n",
    "a = np.array([[[1,2,3,4,5],[6,7,8,9,0]]])\n",
    "print(a)\n",
    "b = np.ndim(a)\n",
    "print(\"No Of Deminsional:\",b)\n",
    "s = np.shape(a)\n",
    "print(\"shape:\",s)"
   ]
  },
  {
   "cell_type": "code",
   "execution_count": 12,
   "id": "b433602c",
   "metadata": {},
   "outputs": [
    {
     "name": "stdout",
     "output_type": "stream",
     "text": [
      "[[[[1 2 3 4 5]\n",
      "   [6 7 8 9 0]]]]\n",
      "No Of Deminsional: 4\n",
      "Size of the array 10\n",
      "shape: (1, 1, 2, 5)\n"
     ]
    }
   ],
   "source": [
    "import numpy as np\n",
    "a = np.array([[[[1,2,3,4,5],[6,7,8,9,0]]]])\n",
    "print(a)\n",
    "b = np.ndim(a)\n",
    "print(\"No Of Deminsional:\",b)\n",
    "e = np.size(a)\n",
    "print(\"Size of the array\", e)\n",
    "s = np.shape(a)\n",
    "print(\"shape:\",s)"
   ]
  },
  {
   "cell_type": "code",
   "execution_count": 13,
   "id": "06fe7443",
   "metadata": {},
   "outputs": [
    {
     "name": "stdout",
     "output_type": "stream",
     "text": [
      "[[[[ 1  2  3  4  5]\n",
      "   [ 6  7  8  9  0]]\n",
      "\n",
      "  [[24 23 24 53 67]\n",
      "   [31 11 43 56  6]]]]\n",
      "No Of Deminsional: 4\n",
      "Size of the array 20\n",
      "shape: (1, 2, 2, 5)\n"
     ]
    }
   ],
   "source": [
    "import numpy as np\n",
    "a = np.array([[[[1,2,3,4,5],[6,7,8,9,0]], [[24,23,24,53,67],[31,11,43,56,6]]]])\n",
    "print(a)\n",
    "b = np.ndim(a)\n",
    "print(\"No Of Deminsional:\",b)\n",
    "e = np.size(a)\n",
    "print(\"Size of the array\", e)\n",
    "s = np.shape(a)\n",
    "print(\"shape:\",s)"
   ]
  },
  {
   "cell_type": "code",
   "execution_count": 14,
   "id": "532019c4",
   "metadata": {},
   "outputs": [
    {
     "name": "stdout",
     "output_type": "stream",
     "text": [
      "[ 1. 23.  4.  5.]\n"
     ]
    }
   ],
   "source": [
    "a = np.array([1,23,4,5], dtype=float)\n",
    "print(a)"
   ]
  },
  {
   "cell_type": "code",
   "execution_count": 15,
   "id": "7c9248c6",
   "metadata": {},
   "outputs": [
    {
     "name": "stdout",
     "output_type": "stream",
     "text": [
      "['1' '23' '4' '5']\n"
     ]
    }
   ],
   "source": [
    "a = np.array([1,23,4,5], dtype=str)\n",
    "print(a)"
   ]
  },
  {
   "cell_type": "code",
   "execution_count": 17,
   "id": "27d0af51",
   "metadata": {},
   "outputs": [
    {
     "name": "stdout",
     "output_type": "stream",
     "text": [
      "[ 1.+0.j 23.+0.j  4.+0.j  5.+0.j]\n"
     ]
    }
   ],
   "source": [
    "a = np.array([1,23,4,5], dtype=complex)\n",
    "print(a)"
   ]
  },
  {
   "cell_type": "code",
   "execution_count": 18,
   "id": "10f700fb",
   "metadata": {
    "scrolled": true
   },
   "outputs": [
    {
     "name": "stdout",
     "output_type": "stream",
     "text": [
      "[[[[[[[[[[ 1 23  4  5]]]]]]]]]]\n"
     ]
    }
   ],
   "source": [
    "a = np.array([1,23,4,5], ndmin=10)\n",
    "print(a)"
   ]
  },
  {
   "cell_type": "code",
   "execution_count": 19,
   "id": "778f3e2a",
   "metadata": {},
   "outputs": [
    {
     "name": "stdout",
     "output_type": "stream",
     "text": [
      "int32\n"
     ]
    }
   ],
   "source": [
    "a = np.array([1,23,4,5], ndmin=10)\n",
    "print(a.dtype)\n"
   ]
  },
  {
   "cell_type": "code",
   "execution_count": 21,
   "id": "04c0cefa",
   "metadata": {},
   "outputs": [
    {
     "name": "stdout",
     "output_type": "stream",
     "text": [
      "<U3\n"
     ]
    }
   ],
   "source": [
    "import numpy as np\n",
    "a = np.array(['d','rew','sds'], ndmin=10)\n",
    "print(a.dtype)"
   ]
  },
  {
   "cell_type": "code",
   "execution_count": null,
   "id": "6963ad92",
   "metadata": {},
   "outputs": [],
   "source": []
  }
 ],
 "metadata": {
  "kernelspec": {
   "display_name": "Python 3 (ipykernel)",
   "language": "python",
   "name": "python3"
  },
  "language_info": {
   "codemirror_mode": {
    "name": "ipython",
    "version": 3
   },
   "file_extension": ".py",
   "mimetype": "text/x-python",
   "name": "python",
   "nbconvert_exporter": "python",
   "pygments_lexer": "ipython3",
   "version": "3.11.4"
  }
 },
 "nbformat": 4,
 "nbformat_minor": 5
}
