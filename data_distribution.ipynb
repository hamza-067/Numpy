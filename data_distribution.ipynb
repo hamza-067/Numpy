{
  "nbformat": 4,
  "nbformat_minor": 0,
  "metadata": {
    "colab": {
      "provenance": [],
      "cell_execution_strategy": "setup",
      "authorship_tag": "ABX9TyPe6AwMBkfuo/v8g4j0/Qvu",
      "include_colab_link": true
    },
    "kernelspec": {
      "name": "python3",
      "display_name": "Python 3"
    },
    "language_info": {
      "name": "python"
    }
  },
  "cells": [
    {
      "cell_type": "markdown",
      "metadata": {
        "id": "view-in-github",
        "colab_type": "text"
      },
      "source": [
        "<a href=\"https://colab.research.google.com/github/MHamza666/numpy/blob/main/data_distribution.ipynb\" target=\"_parent\"><img src=\"https://colab.research.google.com/assets/colab-badge.svg\" alt=\"Open In Colab\"/></a>"
      ]
    },
    {
      "cell_type": "markdown",
      "source": [
        "#What is Data Distribution?\n",
        "Data Distribution is a list of all possible values, and how often each value occurs.\n",
        "\n",
        "Such lists are important when working with statistics and data science.\n",
        "\n",
        "The random module offer methods that returns randomly generated data distributions"
      ],
      "metadata": {
        "id": "AiHmjSBLSVFD"
      }
    },
    {
      "cell_type": "markdown",
      "source": [
        "A data distribution is a function or a listing which shows all the possible values (or intervals) of the data and how often each value occurs. Data distribution is important when working with statistics and data science. The random module offers method that returns randomly generated data distribution"
      ],
      "metadata": {
        "id": "jIOZjF73TOqj"
      }
    },
    {
      "cell_type": "markdown",
      "source": [
        "#Random Distribution:\n",
        "A random distribution is a set of random numbers that follows a certain probability density function.\n",
        "\n",
        "#What is Probability Density Function?\n",
        "\n",
        "A function that describes continuous probability, (i.e.) probability of all values in an array.\n",
        "\n",
        "We can generate this using the choice() method,.\n",
        "\n",
        "Probability is set by a number between 0 and 1;\n",
        "\n",
        "0 : value will never occur.\n",
        "\n",
        "1 : value will always occur.\n",
        "\n",
        "As we know, sum of all probability should always be 1.\n",
        "\n",
        "Example1:\n",
        "\n",
        "To generate 1–D array that contains 10 values, where each value has to be 1,2,3 or 4.\n",
        "\n",
        "The probability for the value to be 1 is set to be 0.3\n",
        "\n",
        "The probability for the value to be 2 is set to be 0.2\n",
        "\n",
        "The probability for the value to be 3 is set to be 0\n",
        "\n",
        "The probability for the value to be 4 is set to be 0.5\n",
        "\n",
        "\n",
        "Running again;\n",
        "\n",
        "\n",
        "How many ever times you try to run the program, value 3 will never occur. This is because we have assigned/set the probability of 3 to be ‘0’.\n",
        "\n",
        "You can also return arrays of any shape and size by specifying the shape in the size parameter.\n",
        "\n",
        "Example2:\n",
        "\n",
        "To generate 2-D array with 3 rows, each row containing 4 values;\n",
        "\n",
        "\n",
        "Random Permutation:\n",
        "Permutation refers to changing the arrangement of elements.\n",
        "\n",
        "Numpy random module provides two methods for this:\n",
        "\n",
        "· shuffle()\n",
        "\n",
        "· permutation()\n",
        "\n",
        "shuffle():\n",
        "\n",
        "It changes the arrangement of elements in-place (in the array itself).\n",
        "\n",
        "(i.e.) changes are made to the original array.\n",
        "\n",
        "\n",
        "permutation():\n",
        "\n",
        "It changes the arrangement of elements as copy.\n",
        "\n",
        "(i.e.) changes are made by returning the re-arranged array without changing the original array.\n",
        "\n"
      ],
      "metadata": {
        "id": "ZYdi7Y9tUJZ3"
      }
    },
    {
      "cell_type": "markdown",
      "source": [
        "Generate a 1-D array containing 100 values, where each value has to be 3, 5, 7 or 9.\n",
        "\n",
        "The probability for the value to be 3 is set to be 0.1\n",
        "\n",
        "The probability for the value to be 5 is set to be 0.3\n",
        "\n",
        "The probability for the value to be 7 is set to be 0.6\n",
        "\n",
        "The probability for the value to be 9 is set to be 0"
      ],
      "metadata": {
        "id": "eH93ANvNV3XC"
      }
    },
    {
      "cell_type": "markdown",
      "source": [
        "# choice method()"
      ],
      "metadata": {
        "id": "59KJNaVoWWAk"
      }
    },
    {
      "cell_type": "code",
      "source": [
        "from numpy import random\n",
        "varr = random.choice([3,5,7,9], p=[0.1 , 0.3 , 0.6 ,0.0], size = (100)) # p mean probability\n",
        "print(varr)"
      ],
      "metadata": {
        "colab": {
          "base_uri": "https://localhost:8080/"
        },
        "id": "q0_cFXA6WZ30",
        "outputId": "e096a7aa-b4ce-4121-d67d-7d475f88bab4"
      },
      "execution_count": 13,
      "outputs": [
        {
          "output_type": "stream",
          "name": "stdout",
          "text": [
            "[7 7 7 7 5 5 5 7 7 7 7 3 7 7 3 5 7 7 5 7 5 5 3 7 7 5 3 7 5 5 7 7 7 5 7 3 7\n",
            " 7 7 3 3 7 7 7 7 7 5 5 7 5 7 3 5 3 7 7 7 7 3 5 7 7 7 7 7 5 3 7 7 7 5 7 7 3\n",
            " 7 7 7 5 7 7 7 7 5 5 3 5 5 5 7 5 7 7 3 5 7 7 7 7 7 7]\n"
          ]
        }
      ]
    },
    {
      "cell_type": "code",
      "source": [
        "from numpy import random\n",
        "\n",
        "x = random.choice([3, 5, 7, 9], p=[0.1, 0.3, 0.6, 0.0], size=(3, 5))\n",
        "\n",
        "print(x)"
      ],
      "metadata": {
        "colab": {
          "base_uri": "https://localhost:8080/"
        },
        "id": "kQoBvf4OXtrb",
        "outputId": "a3717da2-738e-4229-8750-2012f3bf86f3"
      },
      "execution_count": 14,
      "outputs": [
        {
          "output_type": "stream",
          "name": "stdout",
          "text": [
            "[[5 5 7 7 5]\n",
            " [7 7 7 7 5]\n",
            " [7 5 7 7 3]]\n"
          ]
        }
      ]
    },
    {
      "cell_type": "markdown",
      "source": [
        "#Random Permutations of Elements\n",
        "A permutation refers to an arrangement of elements. e.g. [3, 2, 1] is a permutation of [1, 2, 3] and vice-versa.\n",
        "\n",
        "The NumPy Random module provides two methods for this: shuffle() and permutation()"
      ],
      "metadata": {
        "id": "1oxzc4z7Zp6Z"
      }
    },
    {
      "cell_type": "markdown",
      "source": [
        "#Shuffling Arrays\n",
        "Shuffle means changing arrangement of elements in-place. i.e. in the array itself"
      ],
      "metadata": {
        "id": "Z-jL14g-Z0Fh"
      }
    },
    {
      "cell_type": "code",
      "source": [
        "from numpy import random\n",
        "import numpy as np\n",
        "arr = np.array([1,2,3,4,5])\n",
        "random.shuffle(arr)\n",
        "print(arr)"
      ],
      "metadata": {
        "colab": {
          "base_uri": "https://localhost:8080/"
        },
        "id": "vkZ8jIFBaHln",
        "outputId": "ef08b770-23d9-4812-b687-0e7365ec7ccc"
      },
      "execution_count": 16,
      "outputs": [
        {
          "output_type": "stream",
          "name": "stdout",
          "text": [
            "[5 4 1 2 3]\n"
          ]
        }
      ]
    },
    {
      "cell_type": "markdown",
      "source": [
        "# Generating Permutation of Arrays"
      ],
      "metadata": {
        "id": "4aZthZ_ja9TA"
      }
    },
    {
      "cell_type": "code",
      "source": [
        "from numpy import random\n",
        "import numpy as np\n",
        "arr1 = np.array([6,5,4,3,2,1])\n",
        "\n",
        "print(random.permutation(arr1))"
      ],
      "metadata": {
        "colab": {
          "base_uri": "https://localhost:8080/"
        },
        "id": "Pzaj5ex7a_JH",
        "outputId": "67a565c8-6ee2-4ef1-db1c-e17caedbe66c"
      },
      "execution_count": 19,
      "outputs": [
        {
          "output_type": "stream",
          "name": "stdout",
          "text": [
            "[5 1 3 2 6 4]\n"
          ]
        }
      ]
    }
  ]
}