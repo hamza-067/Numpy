{
  "nbformat": 4,
  "nbformat_minor": 0,
  "metadata": {
    "colab": {
      "provenance": [],
      "cell_execution_strategy": "setup",
      "authorship_tag": "ABX9TyMjgOg3IQZdZStQvUkzKwsu",
      "include_colab_link": true
    },
    "kernelspec": {
      "name": "python3",
      "display_name": "Python 3"
    },
    "language_info": {
      "name": "python"
    }
  },
  "cells": [
    {
      "cell_type": "markdown",
      "metadata": {
        "id": "view-in-github",
        "colab_type": "text"
      },
      "source": [
        "<a href=\"https://colab.research.google.com/github/MHamza666/numpy/blob/main/random_lecture_2.ipynb\" target=\"_parent\"><img src=\"https://colab.research.google.com/assets/colab-badge.svg\" alt=\"Open In Colab\"/></a>"
      ]
    },
    {
      "cell_type": "markdown",
      "source": [
        "# randint()\n",
        "the function is used to generate a random number\n"
      ],
      "metadata": {
        "id": "vvCb1te4Lf_M"
      }
    },
    {
      "cell_type": "code",
      "source": [
        "# varr5 = np.random.randint(min,max,totall_number)\n",
        "import numpy as np\n",
        "varr5 = np.random.randint(5,30,8)\n",
        "print(varr5)"
      ],
      "metadata": {
        "colab": {
          "base_uri": "https://localhost:8080/"
        },
        "id": "6CA9SDcALIk4",
        "outputId": "55ed7209-5dd6-4194-83e3-b4d40cac4acc"
      },
      "execution_count": 1,
      "outputs": [
        {
          "output_type": "stream",
          "name": "stdout",
          "text": [
            "[ 6 13  5 18 23 18 23  7]\n"
          ]
        }
      ]
    },
    {
      "cell_type": "code",
      "source": [
        "# 2nd example\n",
        "#Generate a 2-D array with 3 rows, each row containing 5 random integers from 0 to 100\n",
        "import numpy as np\n",
        "varr = np.random.randint(100,size=(2,5))\n",
        "print(varr)"
      ],
      "metadata": {
        "colab": {
          "base_uri": "https://localhost:8080/"
        },
        "id": "S-r7Eb6gPAj1",
        "outputId": "73de77a2-7812-46e7-a94f-16d367c007c2"
      },
      "execution_count": 3,
      "outputs": [
        {
          "output_type": "stream",
          "name": "stdout",
          "text": [
            "[[70  5 44 25  7]\n",
            " [93 58 25 46  2]]\n"
          ]
        }
      ]
    },
    {
      "cell_type": "code",
      "source": [
        "from numpy import random\n",
        "varr2 = random.randint(200,size=5)\n",
        "print(varr2)"
      ],
      "metadata": {
        "colab": {
          "base_uri": "https://localhost:8080/"
        },
        "id": "B0eleB0xPqq1",
        "outputId": "37ce5962-e948-457c-ab1c-0896c0955ec5"
      },
      "execution_count": 6,
      "outputs": [
        {
          "output_type": "stream",
          "name": "stdout",
          "text": [
            "[139  37 146  41  92]\n"
          ]
        }
      ]
    },
    {
      "cell_type": "markdown",
      "source": [
        "# choice method ()"
      ],
      "metadata": {
        "id": "ftLLfydCQbjB"
      }
    },
    {
      "cell_type": "markdown",
      "source": [
        "The choice() method also allows you to return an array of values.\n",
        "\n",
        "Add a size parameter to specify the shape of the array"
      ],
      "metadata": {
        "id": "qi_jgzoORJ2U"
      }
    },
    {
      "cell_type": "code",
      "source": [
        "from numpy import random\n",
        "x = random.choice([1,2,3,4,5],size = 3)\n",
        "print(x)"
      ],
      "metadata": {
        "colab": {
          "base_uri": "https://localhost:8080/"
        },
        "id": "bkbCY0FeQjRk",
        "outputId": "0302f9e2-812a-47c3-da6e-8edb384627bf"
      },
      "execution_count": 10,
      "outputs": [
        {
          "output_type": "stream",
          "name": "stdout",
          "text": [
            "[3 5 3]\n"
          ]
        }
      ]
    },
    {
      "cell_type": "code",
      "source": [
        "import numpy as np\n",
        "a = np.random.choice([1,2,3,4,5,6],size=(2,5))\n",
        "print(a)"
      ],
      "metadata": {
        "colab": {
          "base_uri": "https://localhost:8080/"
        },
        "id": "9k_GbM7iRMBR",
        "outputId": "39798a22-5f3d-4f2a-f646-5cf3b01567d0"
      },
      "execution_count": 9,
      "outputs": [
        {
          "output_type": "stream",
          "name": "stdout",
          "text": [
            "[[1 4 3 4 6]\n",
            " [3 6 1 2 3]]\n"
          ]
        }
      ]
    }
  ]
}