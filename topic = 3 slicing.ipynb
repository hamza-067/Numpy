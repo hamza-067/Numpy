{
 "cells": [
  {
   "cell_type": "code",
   "execution_count": 3,
   "id": "37eab42a",
   "metadata": {},
   "outputs": [
    {
     "name": "stdout",
     "output_type": "stream",
     "text": [
      "[[ 1  2  3  4  5  6]\n",
      " [ 7  8  9 10 11  6]\n",
      " [12 13 14 15 16 17]]\n",
      "18\n",
      "[[ 8 10  6]\n",
      " [13 15 17]]\n"
     ]
    }
   ],
   "source": [
    "import numpy as np\n",
    "a = [1,2,3,4,5,6]\n",
    "b = [7,8,9,10,11,6]\n",
    "c = [12,13,14,15,16,17]\n",
    "d = [18,19,20,21,22,23]\n",
    "s =np.array([a,b,c])\n",
    "print(s)\n",
    "print(np.size(s))\n",
    "print(s[1:3,1:6:2])\n"
   ]
  },
  {
   "cell_type": "code",
   "execution_count": null,
   "id": "00538bda",
   "metadata": {},
   "outputs": [],
   "source": []
  }
 ],
 "metadata": {
  "kernelspec": {
   "display_name": "Python 3 (ipykernel)",
   "language": "python",
   "name": "python3"
  },
  "language_info": {
   "codemirror_mode": {
    "name": "ipython",
    "version": 3
   },
   "file_extension": ".py",
   "mimetype": "text/x-python",
   "name": "python",
   "nbconvert_exporter": "python",
   "pygments_lexer": "ipython3",
   "version": "3.11.4"
  }
 },
 "nbformat": 4,
 "nbformat_minor": 5
}
