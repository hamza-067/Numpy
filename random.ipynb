{
  "nbformat": 4,
  "nbformat_minor": 0,
  "metadata": {
    "colab": {
      "provenance": [],
      "cell_execution_strategy": "setup",
      "authorship_tag": "ABX9TyPAGy8NVcIPt8yedQsCnk8I",
      "include_colab_link": true
    },
    "kernelspec": {
      "name": "python3",
      "display_name": "Python 3"
    },
    "language_info": {
      "name": "python"
    }
  },
  "cells": [
    {
      "cell_type": "markdown",
      "metadata": {
        "id": "view-in-github",
        "colab_type": "text"
      },
      "source": [
        "<a href=\"https://colab.research.google.com/github/MHamza666/numpy/blob/main/random.ipynb\" target=\"_parent\"><img src=\"https://colab.research.google.com/assets/colab-badge.svg\" alt=\"Open In Colab\"/></a>"
      ]
    },
    {
      "cell_type": "markdown",
      "source": [
        "# rand()"
      ],
      "metadata": {
        "id": "XoK3ftx8Izld"
      }
    },
    {
      "cell_type": "code",
      "source": [
        "import numpy as np\n",
        "var1 = np.random.rand(5)\n",
        "print(var1)"
      ],
      "metadata": {
        "colab": {
          "base_uri": "https://localhost:8080/"
        },
        "id": "Nq6DjuFeI3N1",
        "outputId": "40230163-6fbb-4b1d-d067-604893b43669"
      },
      "execution_count": 7,
      "outputs": [
        {
          "output_type": "stream",
          "name": "stdout",
          "text": [
            "[0.31745521 0.64645347 0.1002871  0.80537834 0.76845873]\n"
          ]
        }
      ]
    },
    {
      "cell_type": "code",
      "source": [
        "var2 = np.random.rand(2,5)\n",
        "print(var2)"
      ],
      "metadata": {
        "colab": {
          "base_uri": "https://localhost:8080/"
        },
        "id": "1l8V5s2vJffb",
        "outputId": "97707f01-852b-4ebc-c6aa-b5045acf0f41"
      },
      "execution_count": 8,
      "outputs": [
        {
          "output_type": "stream",
          "name": "stdout",
          "text": [
            "[[0.46504812 0.88154865 0.26184145 0.65309897 0.73325018]\n",
            " [0.27916463 0.40841576 0.75258834 0.95577412 0.64436876]]\n"
          ]
        }
      ]
    },
    {
      "cell_type": "markdown",
      "source": [
        "# randn()"
      ],
      "metadata": {
        "id": "OW_Ozx5rJKtc"
      }
    },
    {
      "cell_type": "code",
      "source": [
        "# this function is used to generate random value and this value is close to zero\n",
        "# and the may return positive number and negative number as well\n",
        "\n",
        "import numpy as np\n",
        "varr3 = np.random.randn(5)\n",
        "print(varr3)"
      ],
      "metadata": {
        "colab": {
          "base_uri": "https://localhost:8080/"
        },
        "id": "UZieJ2-QJN3E",
        "outputId": "e413347a-241f-47fb-ce01-4bd37b1ef5d5"
      },
      "execution_count": 10,
      "outputs": [
        {
          "output_type": "stream",
          "name": "stdout",
          "text": [
            "[ 0.03696602  0.7736846  -1.12809742  1.73937191  0.44267395]\n"
          ]
        }
      ]
    },
    {
      "cell_type": "markdown",
      "source": [
        "# ranf()\n",
        "the function for doing random sampling in numpy it returns an array of specified  shape and fills it with random floats in the half ioen interval"
      ],
      "metadata": {
        "id": "u7Idzy_7KnGX"
      }
    },
    {
      "cell_type": "code",
      "source": [
        "import numpy as np\n",
        "varr4 = np.random.ranf(5)\n",
        "print(varr4)"
      ],
      "metadata": {
        "colab": {
          "base_uri": "https://localhost:8080/"
        },
        "id": "SfMLLfoqLJQl",
        "outputId": "b5e62ece-207a-4c54-d069-1024dd28193a"
      },
      "execution_count": 12,
      "outputs": [
        {
          "output_type": "stream",
          "name": "stdout",
          "text": [
            "[0.47399376 0.30721797 0.11270067 0.30285982 0.99394632]\n"
          ]
        }
      ]
    },
    {
      "cell_type": "markdown",
      "source": [
        "# randint()\n",
        "the function is used to generate a random number\n"
      ],
      "metadata": {
        "id": "vvCb1te4Lf_M"
      }
    },
    {
      "cell_type": "code",
      "source": [
        "# varr5 = np.random.randint(min,max,totall_number)\n",
        "import numpy as np\n",
        "varr5 = np.random.randint(5,30,8)\n",
        "print(varr5)"
      ],
      "metadata": {
        "colab": {
          "base_uri": "https://localhost:8080/"
        },
        "id": "6CA9SDcALIk4",
        "outputId": "9c31b86c-94f6-4fca-9af8-83c2ad329826"
      },
      "execution_count": 13,
      "outputs": [
        {
          "output_type": "stream",
          "name": "stdout",
          "text": [
            "[29 28 28 14 29 23  7  8]\n"
          ]
        }
      ]
    }
  ]
}